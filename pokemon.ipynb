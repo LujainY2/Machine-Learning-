{
 "cells": [
  {
   "cell_type": "markdown",
   "id": "c9b1a302",
   "metadata": {},
   "source": [
    "# Pokemon Dataset Analysis\n",
    "- Done by : Lujain Yousef <3\n",
    "![Alt text](302141.jpg)\n",
    "- Columns `Describtion`:\n",
    "     - **#**: This column appears to contain a unique identifier for each entry, perhaps representing the Pokémon ID.\n",
    "     - **Name**: This column contains the names of the Pokémon.\n",
    "     - **Type 1**: This column contains the primary type of each Pokémon.\n",
    "     - **Type 2**: This column contains the secondary type of each Pokémon. Some Pokémon may have only one type, so their Type 2 is marked as NaN (Not a Number).\n",
    "\n",
    "     - **Total**: This column likely represents the total stats of each Pokémon, which could be the sum of HP, Attack, Defense, Special Attack, Special Defense, and Speed.\n",
    "\n",
    "     - **HP**: This column represents the Hit Points (HP) stat of each Pokémon, indicating its health or vitality.\n",
    "\n",
    "     - **Attack**: This column represents the Attack stat of each Pokémon, indicating its physical attack power.\n",
    "\n",
    "     - **Defense**: This column represents the Defense stat of each Pokémon, indicating its ability to resist physical attacks.\n",
    "\n",
    "     - **Sp. Atk**: This column represents the Special Attack stat of each Pokémon, indicating its power in special attacks (e.g., elemental attacks).\n",
    "\n",
    "     - **Sp. Def**: This column represents the Special Defense stat of each Pokémon, indicating its ability to resist special attacks.\n",
    "\n",
    "     - **Speed**: This column represents the Speed stat of each Pokémon, indicating its agility or how quickly it can act in battle.\n",
    "\n",
    "     - **Generation**: This column appears to indicate the generation of each Pokémon, which is likely the generation in which it was introduced in the Pokémon series.\n",
    "     \n",
    "     - **Legendary**: This column indicates whether the Pokémon is legendary or not, with `True` representing legendary Pokémon and `False` representing non-legendary Pokémon."
   ]
  },
  {
   "cell_type": "markdown",
   "id": "54de40ed",
   "metadata": {},
   "source": [
    "# reading the Dataframe "
   ]
  },
  {
   "cell_type": "code",
   "execution_count": 322,
   "id": "e98347a8",
   "metadata": {},
   "outputs": [
    {
     "data": {
      "text/html": [
       "<div>\n",
       "<style scoped>\n",
       "    .dataframe tbody tr th:only-of-type {\n",
       "        vertical-align: middle;\n",
       "    }\n",
       "\n",
       "    .dataframe tbody tr th {\n",
       "        vertical-align: top;\n",
       "    }\n",
       "\n",
       "    .dataframe thead th {\n",
       "        text-align: right;\n",
       "    }\n",
       "</style>\n",
       "<table border=\"1\" class=\"dataframe\">\n",
       "  <thead>\n",
       "    <tr style=\"text-align: right;\">\n",
       "      <th></th>\n",
       "      <th>#</th>\n",
       "      <th>Name</th>\n",
       "      <th>Type 1</th>\n",
       "      <th>Type 2</th>\n",
       "      <th>Total</th>\n",
       "      <th>HP</th>\n",
       "      <th>Attack</th>\n",
       "      <th>Defense</th>\n",
       "      <th>Sp. Atk</th>\n",
       "      <th>Sp. Def</th>\n",
       "      <th>Speed</th>\n",
       "      <th>Generation</th>\n",
       "      <th>Legendary</th>\n",
       "    </tr>\n",
       "  </thead>\n",
       "  <tbody>\n",
       "    <tr>\n",
       "      <th>0</th>\n",
       "      <td>1</td>\n",
       "      <td>Bulbasaur</td>\n",
       "      <td>Grass</td>\n",
       "      <td>Poison</td>\n",
       "      <td>318</td>\n",
       "      <td>45</td>\n",
       "      <td>49</td>\n",
       "      <td>49</td>\n",
       "      <td>65</td>\n",
       "      <td>65</td>\n",
       "      <td>45</td>\n",
       "      <td>1</td>\n",
       "      <td>False</td>\n",
       "    </tr>\n",
       "    <tr>\n",
       "      <th>1</th>\n",
       "      <td>2</td>\n",
       "      <td>Ivysaur</td>\n",
       "      <td>Grass</td>\n",
       "      <td>Poison</td>\n",
       "      <td>405</td>\n",
       "      <td>60</td>\n",
       "      <td>62</td>\n",
       "      <td>63</td>\n",
       "      <td>80</td>\n",
       "      <td>80</td>\n",
       "      <td>60</td>\n",
       "      <td>1</td>\n",
       "      <td>False</td>\n",
       "    </tr>\n",
       "    <tr>\n",
       "      <th>2</th>\n",
       "      <td>3</td>\n",
       "      <td>Venusaur</td>\n",
       "      <td>Grass</td>\n",
       "      <td>Poison</td>\n",
       "      <td>525</td>\n",
       "      <td>80</td>\n",
       "      <td>82</td>\n",
       "      <td>83</td>\n",
       "      <td>100</td>\n",
       "      <td>100</td>\n",
       "      <td>80</td>\n",
       "      <td>1</td>\n",
       "      <td>False</td>\n",
       "    </tr>\n",
       "    <tr>\n",
       "      <th>3</th>\n",
       "      <td>3</td>\n",
       "      <td>VenusaurMega Venusaur</td>\n",
       "      <td>Grass</td>\n",
       "      <td>Poison</td>\n",
       "      <td>625</td>\n",
       "      <td>80</td>\n",
       "      <td>100</td>\n",
       "      <td>123</td>\n",
       "      <td>122</td>\n",
       "      <td>120</td>\n",
       "      <td>80</td>\n",
       "      <td>1</td>\n",
       "      <td>False</td>\n",
       "    </tr>\n",
       "    <tr>\n",
       "      <th>4</th>\n",
       "      <td>4</td>\n",
       "      <td>Charmander</td>\n",
       "      <td>Fire</td>\n",
       "      <td>NaN</td>\n",
       "      <td>309</td>\n",
       "      <td>39</td>\n",
       "      <td>52</td>\n",
       "      <td>43</td>\n",
       "      <td>60</td>\n",
       "      <td>50</td>\n",
       "      <td>65</td>\n",
       "      <td>1</td>\n",
       "      <td>False</td>\n",
       "    </tr>\n",
       "    <tr>\n",
       "      <th>...</th>\n",
       "      <td>...</td>\n",
       "      <td>...</td>\n",
       "      <td>...</td>\n",
       "      <td>...</td>\n",
       "      <td>...</td>\n",
       "      <td>...</td>\n",
       "      <td>...</td>\n",
       "      <td>...</td>\n",
       "      <td>...</td>\n",
       "      <td>...</td>\n",
       "      <td>...</td>\n",
       "      <td>...</td>\n",
       "      <td>...</td>\n",
       "    </tr>\n",
       "    <tr>\n",
       "      <th>795</th>\n",
       "      <td>719</td>\n",
       "      <td>Diancie</td>\n",
       "      <td>Rock</td>\n",
       "      <td>Fairy</td>\n",
       "      <td>600</td>\n",
       "      <td>50</td>\n",
       "      <td>100</td>\n",
       "      <td>150</td>\n",
       "      <td>100</td>\n",
       "      <td>150</td>\n",
       "      <td>50</td>\n",
       "      <td>6</td>\n",
       "      <td>True</td>\n",
       "    </tr>\n",
       "    <tr>\n",
       "      <th>796</th>\n",
       "      <td>719</td>\n",
       "      <td>DiancieMega Diancie</td>\n",
       "      <td>Rock</td>\n",
       "      <td>Fairy</td>\n",
       "      <td>700</td>\n",
       "      <td>50</td>\n",
       "      <td>160</td>\n",
       "      <td>110</td>\n",
       "      <td>160</td>\n",
       "      <td>110</td>\n",
       "      <td>110</td>\n",
       "      <td>6</td>\n",
       "      <td>True</td>\n",
       "    </tr>\n",
       "    <tr>\n",
       "      <th>797</th>\n",
       "      <td>720</td>\n",
       "      <td>HoopaHoopa Confined</td>\n",
       "      <td>Psychic</td>\n",
       "      <td>Ghost</td>\n",
       "      <td>600</td>\n",
       "      <td>80</td>\n",
       "      <td>110</td>\n",
       "      <td>60</td>\n",
       "      <td>150</td>\n",
       "      <td>130</td>\n",
       "      <td>70</td>\n",
       "      <td>6</td>\n",
       "      <td>True</td>\n",
       "    </tr>\n",
       "    <tr>\n",
       "      <th>798</th>\n",
       "      <td>720</td>\n",
       "      <td>HoopaHoopa Unbound</td>\n",
       "      <td>Psychic</td>\n",
       "      <td>Dark</td>\n",
       "      <td>680</td>\n",
       "      <td>80</td>\n",
       "      <td>160</td>\n",
       "      <td>60</td>\n",
       "      <td>170</td>\n",
       "      <td>130</td>\n",
       "      <td>80</td>\n",
       "      <td>6</td>\n",
       "      <td>True</td>\n",
       "    </tr>\n",
       "    <tr>\n",
       "      <th>799</th>\n",
       "      <td>721</td>\n",
       "      <td>Volcanion</td>\n",
       "      <td>Fire</td>\n",
       "      <td>Water</td>\n",
       "      <td>600</td>\n",
       "      <td>80</td>\n",
       "      <td>110</td>\n",
       "      <td>120</td>\n",
       "      <td>130</td>\n",
       "      <td>90</td>\n",
       "      <td>70</td>\n",
       "      <td>6</td>\n",
       "      <td>True</td>\n",
       "    </tr>\n",
       "  </tbody>\n",
       "</table>\n",
       "<p>800 rows × 13 columns</p>\n",
       "</div>"
      ],
      "text/plain": [
       "       #                   Name   Type 1  Type 2  Total  HP  Attack  Defense  \\\n",
       "0      1              Bulbasaur    Grass  Poison    318  45      49       49   \n",
       "1      2                Ivysaur    Grass  Poison    405  60      62       63   \n",
       "2      3               Venusaur    Grass  Poison    525  80      82       83   \n",
       "3      3  VenusaurMega Venusaur    Grass  Poison    625  80     100      123   \n",
       "4      4             Charmander     Fire     NaN    309  39      52       43   \n",
       "..   ...                    ...      ...     ...    ...  ..     ...      ...   \n",
       "795  719                Diancie     Rock   Fairy    600  50     100      150   \n",
       "796  719    DiancieMega Diancie     Rock   Fairy    700  50     160      110   \n",
       "797  720    HoopaHoopa Confined  Psychic   Ghost    600  80     110       60   \n",
       "798  720     HoopaHoopa Unbound  Psychic    Dark    680  80     160       60   \n",
       "799  721              Volcanion     Fire   Water    600  80     110      120   \n",
       "\n",
       "     Sp. Atk  Sp. Def  Speed  Generation  Legendary  \n",
       "0         65       65     45           1      False  \n",
       "1         80       80     60           1      False  \n",
       "2        100      100     80           1      False  \n",
       "3        122      120     80           1      False  \n",
       "4         60       50     65           1      False  \n",
       "..       ...      ...    ...         ...        ...  \n",
       "795      100      150     50           6       True  \n",
       "796      160      110    110           6       True  \n",
       "797      150      130     70           6       True  \n",
       "798      170      130     80           6       True  \n",
       "799      130       90     70           6       True  \n",
       "\n",
       "[800 rows x 13 columns]"
      ]
     },
     "execution_count": 322,
     "metadata": {},
     "output_type": "execute_result"
    }
   ],
   "source": [
    "import pandas as pd \n",
    "df = pd.read_csv('pokemon.csv')\n",
    "df"
   ]
  },
  {
   "cell_type": "markdown",
   "id": "bdecc6d3",
   "metadata": {},
   "source": [
    "# drop the number col"
   ]
  },
  {
   "cell_type": "code",
   "execution_count": 275,
   "id": "755b71c8",
   "metadata": {},
   "outputs": [],
   "source": [
    "df = df.drop('#',axis=1) # not usefull"
   ]
  },
  {
   "cell_type": "markdown",
   "id": "f37eb1bd",
   "metadata": {},
   "source": [
    "# EDA"
   ]
  },
  {
   "cell_type": "markdown",
   "id": "7aabad7d",
   "metadata": {},
   "source": [
    "![Alt text](314780.jpg)"
   ]
  },
  {
   "cell_type": "markdown",
   "id": "43f7b1c9",
   "metadata": {},
   "source": [
    "### check the datatypes"
   ]
  },
  {
   "cell_type": "code",
   "execution_count": 276,
   "id": "6fb7ad88",
   "metadata": {},
   "outputs": [
    {
     "data": {
      "text/plain": [
       "Name          object\n",
       "Type 1        object\n",
       "Type 2        object\n",
       "Total          int64\n",
       "HP             int64\n",
       "Attack         int64\n",
       "Defense        int64\n",
       "Sp. Atk        int64\n",
       "Sp. Def        int64\n",
       "Speed          int64\n",
       "Generation     int64\n",
       "Legendary       bool\n",
       "dtype: object"
      ]
     },
     "execution_count": 276,
     "metadata": {},
     "output_type": "execute_result"
    }
   ],
   "source": [
    "df.dtypes"
   ]
  },
  {
   "cell_type": "markdown",
   "id": "cde33cce",
   "metadata": {},
   "source": [
    "### check nulls "
   ]
  },
  {
   "cell_type": "code",
   "execution_count": 277,
   "id": "80ed2d33",
   "metadata": {},
   "outputs": [
    {
     "data": {
      "text/plain": [
       "Name            0\n",
       "Type 1          0\n",
       "Type 2        386\n",
       "Total           0\n",
       "HP              0\n",
       "Attack          0\n",
       "Defense         0\n",
       "Sp. Atk         0\n",
       "Sp. Def         0\n",
       "Speed           0\n",
       "Generation      0\n",
       "Legendary       0\n",
       "dtype: int64"
      ]
     },
     "execution_count": 277,
     "metadata": {},
     "output_type": "execute_result"
    }
   ],
   "source": [
    "df.isna().sum()"
   ]
  },
  {
   "cell_type": "code",
   "execution_count": 278,
   "id": "7b9518a6",
   "metadata": {},
   "outputs": [
    {
     "data": {
      "text/plain": [
       "Name          0.0000\n",
       "Type 1        0.0000\n",
       "Type 2        0.4825\n",
       "Total         0.0000\n",
       "HP            0.0000\n",
       "Attack        0.0000\n",
       "Defense       0.0000\n",
       "Sp. Atk       0.0000\n",
       "Sp. Def       0.0000\n",
       "Speed         0.0000\n",
       "Generation    0.0000\n",
       "Legendary     0.0000\n",
       "dtype: float64"
      ]
     },
     "execution_count": 278,
     "metadata": {},
     "output_type": "execute_result"
    }
   ],
   "source": [
    "df.isna().sum()/len(df) # nulls percentage"
   ]
  },
  {
   "cell_type": "code",
   "execution_count": 308,
   "id": "39d68769",
   "metadata": {},
   "outputs": [
    {
     "name": "stdout",
     "output_type": "stream",
     "text": [
      "Name           True\n",
      "Type 1         True\n",
      "Type 2        False\n",
      "Total          True\n",
      "HP             True\n",
      "Attack         True\n",
      "Defense        True\n",
      "Sp. Atk        True\n",
      "Sp. Def        True\n",
      "Speed          True\n",
      "Generation     True\n",
      "Legendary      True\n",
      "dtype: bool\n"
     ]
    }
   ],
   "source": [
    "mask = df.isna().sum()/len(df) < 0.3 # making and removing nulls based on threshold 0.3\n",
    "print(mask)"
   ]
  },
  {
   "cell_type": "code",
   "execution_count": 280,
   "id": "ef84954a",
   "metadata": {},
   "outputs": [],
   "source": [
    "reduced_df = df.loc[:,mask]"
   ]
  },
  {
   "cell_type": "code",
   "execution_count": 281,
   "id": "4435015f",
   "metadata": {},
   "outputs": [
    {
     "data": {
      "text/plain": [
       "(800, 11)"
      ]
     },
     "execution_count": 281,
     "metadata": {},
     "output_type": "execute_result"
    }
   ],
   "source": [
    "reduced_df.shape"
   ]
  },
  {
   "cell_type": "markdown",
   "id": "6a36a6af",
   "metadata": {},
   "source": [
    "# Encoding categorical features "
   ]
  },
  {
   "cell_type": "markdown",
   "id": "a85f0ee7",
   "metadata": {},
   "source": [
    "![Alt text](410000.jpg)"
   ]
  },
  {
   "cell_type": "code",
   "execution_count": 345,
   "id": "cabddd30",
   "metadata": {
    "scrolled": true
   },
   "outputs": [
    {
     "name": "stdout",
     "output_type": "stream",
     "text": [
      "0       80\n",
      "1      329\n",
      "2      745\n",
      "3      746\n",
      "4      102\n",
      "      ... \n",
      "795    160\n",
      "796    161\n",
      "797    314\n",
      "798    315\n",
      "799    756\n",
      "Name: Name, Length: 800, dtype: int32\n",
      "0       9\n",
      "1       9\n",
      "2       9\n",
      "3       9\n",
      "4       6\n",
      "       ..\n",
      "795    15\n",
      "796    15\n",
      "797    14\n",
      "798    14\n",
      "799     6\n",
      "Name: Type 1, Length: 800, dtype: int32\n"
     ]
    }
   ],
   "source": [
    "from sklearn.preprocessing import LabelEncoder \n",
    "l = LabelEncoder()\n",
    "cols = ['Name','Type 1']\n",
    "for col in cols:\n",
    "        reduced_df[col]=l.fit_transform(df[col])\n",
    "        print(reduced_df[col])"
   ]
  },
  {
   "cell_type": "markdown",
   "id": "658b0cdb",
   "metadata": {},
   "source": [
    "# Correlation"
   ]
  },
  {
   "cell_type": "markdown",
   "id": "9a054ac2",
   "metadata": {},
   "source": [
    "![Alt text](53138.jpg)"
   ]
  },
  {
   "cell_type": "code",
   "execution_count": 283,
   "id": "7c0a0617",
   "metadata": {},
   "outputs": [
    {
     "data": {
      "text/plain": [
       "<Axes: >"
      ]
     },
     "execution_count": 283,
     "metadata": {},
     "output_type": "execute_result"
    },
    {
     "data": {
      "image/png": "[encoded data removed]",
      "text/plain": [
       "<Figure size 640x480 with 2 Axes>"
      ]
     },
     "metadata": {},
     "output_type": "display_data"
    }
   ],
   "source": [
    "import numpy as np\n",
    "import seaborn as sns\n",
    "\n",
    "cmap = sns.diverging_palette(h_neg=10, h_pos=240, as_cmap=True)\n",
    "corr = reduced_df.corr()\n",
    "mask = np.triu(np.ones_like(corr,dtype=bool))\n",
    "sns.heatmap(corr,mask=mask,center=0,cmap=cmap,annot=True,fmt='.2f')"
   ]
  },
  {
   "cell_type": "code",
   "execution_count": 284,
   "id": "59d83301",
   "metadata": {},
   "outputs": [
    {
     "data": {
      "text/html": [
       "<div>\n",
       "<style scoped>\n",
       "    .dataframe tbody tr th:only-of-type {\n",
       "        vertical-align: middle;\n",
       "    }\n",
       "\n",
       "    .dataframe tbody tr th {\n",
       "        vertical-align: top;\n",
       "    }\n",
       "\n",
       "    .dataframe thead th {\n",
       "        text-align: right;\n",
       "    }\n",
       "</style>\n",
       "<table border=\"1\" class=\"dataframe\">\n",
       "  <thead>\n",
       "    <tr style=\"text-align: right;\">\n",
       "      <th></th>\n",
       "      <th>Name</th>\n",
       "      <th>Type 1</th>\n",
       "      <th>Total</th>\n",
       "      <th>HP</th>\n",
       "      <th>Attack</th>\n",
       "      <th>Defense</th>\n",
       "      <th>Sp. Atk</th>\n",
       "      <th>Sp. Def</th>\n",
       "      <th>Speed</th>\n",
       "      <th>Generation</th>\n",
       "      <th>Legendary</th>\n",
       "    </tr>\n",
       "  </thead>\n",
       "  <tbody>\n",
       "    <tr>\n",
       "      <th>Name</th>\n",
       "      <td>NaN</td>\n",
       "      <td>NaN</td>\n",
       "      <td>NaN</td>\n",
       "      <td>NaN</td>\n",
       "      <td>NaN</td>\n",
       "      <td>NaN</td>\n",
       "      <td>NaN</td>\n",
       "      <td>NaN</td>\n",
       "      <td>NaN</td>\n",
       "      <td>NaN</td>\n",
       "      <td>NaN</td>\n",
       "    </tr>\n",
       "    <tr>\n",
       "      <th>Type 1</th>\n",
       "      <td>0.067074</td>\n",
       "      <td>NaN</td>\n",
       "      <td>NaN</td>\n",
       "      <td>NaN</td>\n",
       "      <td>NaN</td>\n",
       "      <td>NaN</td>\n",
       "      <td>NaN</td>\n",
       "      <td>NaN</td>\n",
       "      <td>NaN</td>\n",
       "      <td>NaN</td>\n",
       "      <td>NaN</td>\n",
       "    </tr>\n",
       "    <tr>\n",
       "      <th>Total</th>\n",
       "      <td>0.071396</td>\n",
       "      <td>0.023251</td>\n",
       "      <td>NaN</td>\n",
       "      <td>NaN</td>\n",
       "      <td>NaN</td>\n",
       "      <td>NaN</td>\n",
       "      <td>NaN</td>\n",
       "      <td>NaN</td>\n",
       "      <td>NaN</td>\n",
       "      <td>NaN</td>\n",
       "      <td>NaN</td>\n",
       "    </tr>\n",
       "    <tr>\n",
       "      <th>HP</th>\n",
       "      <td>0.008356</td>\n",
       "      <td>0.094230</td>\n",
       "      <td>0.618748</td>\n",
       "      <td>NaN</td>\n",
       "      <td>NaN</td>\n",
       "      <td>NaN</td>\n",
       "      <td>NaN</td>\n",
       "      <td>NaN</td>\n",
       "      <td>NaN</td>\n",
       "      <td>NaN</td>\n",
       "      <td>NaN</td>\n",
       "    </tr>\n",
       "    <tr>\n",
       "      <th>Attack</th>\n",
       "      <td>0.081029</td>\n",
       "      <td>0.037525</td>\n",
       "      <td>0.736211</td>\n",
       "      <td>0.422386</td>\n",
       "      <td>NaN</td>\n",
       "      <td>NaN</td>\n",
       "      <td>NaN</td>\n",
       "      <td>NaN</td>\n",
       "      <td>NaN</td>\n",
       "      <td>NaN</td>\n",
       "      <td>NaN</td>\n",
       "    </tr>\n",
       "    <tr>\n",
       "      <th>Defense</th>\n",
       "      <td>0.025437</td>\n",
       "      <td>0.103439</td>\n",
       "      <td>0.612787</td>\n",
       "      <td>0.239622</td>\n",
       "      <td>0.438687</td>\n",
       "      <td>NaN</td>\n",
       "      <td>NaN</td>\n",
       "      <td>NaN</td>\n",
       "      <td>NaN</td>\n",
       "      <td>NaN</td>\n",
       "      <td>NaN</td>\n",
       "    </tr>\n",
       "    <tr>\n",
       "      <th>Sp. Atk</th>\n",
       "      <td>0.063574</td>\n",
       "      <td>0.006694</td>\n",
       "      <td>0.747250</td>\n",
       "      <td>0.362380</td>\n",
       "      <td>0.396362</td>\n",
       "      <td>0.223549</td>\n",
       "      <td>NaN</td>\n",
       "      <td>NaN</td>\n",
       "      <td>NaN</td>\n",
       "      <td>NaN</td>\n",
       "      <td>NaN</td>\n",
       "    </tr>\n",
       "    <tr>\n",
       "      <th>Sp. Def</th>\n",
       "      <td>0.069318</td>\n",
       "      <td>0.018911</td>\n",
       "      <td>0.717609</td>\n",
       "      <td>0.378718</td>\n",
       "      <td>0.263990</td>\n",
       "      <td>0.510747</td>\n",
       "      <td>0.506121</td>\n",
       "      <td>NaN</td>\n",
       "      <td>NaN</td>\n",
       "      <td>NaN</td>\n",
       "      <td>NaN</td>\n",
       "    </tr>\n",
       "    <tr>\n",
       "      <th>Speed</th>\n",
       "      <td>0.031623</td>\n",
       "      <td>0.066471</td>\n",
       "      <td>0.575943</td>\n",
       "      <td>0.175952</td>\n",
       "      <td>0.381240</td>\n",
       "      <td>0.015227</td>\n",
       "      <td>0.473018</td>\n",
       "      <td>0.259133</td>\n",
       "      <td>NaN</td>\n",
       "      <td>NaN</td>\n",
       "      <td>NaN</td>\n",
       "    </tr>\n",
       "    <tr>\n",
       "      <th>Generation</th>\n",
       "      <td>0.035371</td>\n",
       "      <td>0.101129</td>\n",
       "      <td>0.048384</td>\n",
       "      <td>0.058683</td>\n",
       "      <td>0.051451</td>\n",
       "      <td>0.042419</td>\n",
       "      <td>0.036437</td>\n",
       "      <td>0.028486</td>\n",
       "      <td>0.023121</td>\n",
       "      <td>NaN</td>\n",
       "      <td>NaN</td>\n",
       "    </tr>\n",
       "    <tr>\n",
       "      <th>Legendary</th>\n",
       "      <td>0.047575</td>\n",
       "      <td>0.010162</td>\n",
       "      <td>0.501758</td>\n",
       "      <td>0.273620</td>\n",
       "      <td>0.345408</td>\n",
       "      <td>0.246377</td>\n",
       "      <td>0.448907</td>\n",
       "      <td>0.363937</td>\n",
       "      <td>0.326715</td>\n",
       "      <td>0.079794</td>\n",
       "      <td>NaN</td>\n",
       "    </tr>\n",
       "  </tbody>\n",
       "</table>\n",
       "</div>"
      ],
      "text/plain": [
       "                Name    Type 1     Total        HP    Attack   Defense  \\\n",
       "Name             NaN       NaN       NaN       NaN       NaN       NaN   \n",
       "Type 1      0.067074       NaN       NaN       NaN       NaN       NaN   \n",
       "Total       0.071396  0.023251       NaN       NaN       NaN       NaN   \n",
       "HP          0.008356  0.094230  0.618748       NaN       NaN       NaN   \n",
       "Attack      0.081029  0.037525  0.736211  0.422386       NaN       NaN   \n",
       "Defense     0.025437  0.103439  0.612787  0.239622  0.438687       NaN   \n",
       "Sp. Atk     0.063574  0.006694  0.747250  0.362380  0.396362  0.223549   \n",
       "Sp. Def     0.069318  0.018911  0.717609  0.378718  0.263990  0.510747   \n",
       "Speed       0.031623  0.066471  0.575943  0.175952  0.381240  0.015227   \n",
       "Generation  0.035371  0.101129  0.048384  0.058683  0.051451  0.042419   \n",
       "Legendary   0.047575  0.010162  0.501758  0.273620  0.345408  0.246377   \n",
       "\n",
       "             Sp. Atk   Sp. Def     Speed  Generation  Legendary  \n",
       "Name             NaN       NaN       NaN         NaN        NaN  \n",
       "Type 1           NaN       NaN       NaN         NaN        NaN  \n",
       "Total            NaN       NaN       NaN         NaN        NaN  \n",
       "HP               NaN       NaN       NaN         NaN        NaN  \n",
       "Attack           NaN       NaN       NaN         NaN        NaN  \n",
       "Defense          NaN       NaN       NaN         NaN        NaN  \n",
       "Sp. Atk          NaN       NaN       NaN         NaN        NaN  \n",
       "Sp. Def     0.506121       NaN       NaN         NaN        NaN  \n",
       "Speed       0.473018  0.259133       NaN         NaN        NaN  \n",
       "Generation  0.036437  0.028486  0.023121         NaN        NaN  \n",
       "Legendary   0.448907  0.363937  0.326715    0.079794        NaN  "
      ]
     },
     "execution_count": 284,
     "metadata": {},
     "output_type": "execute_result"
    }
   ],
   "source": [
    "corr_df = reduced_df.corr().abs()\n",
    "mask = np.triu(np.ones_like(corr_df,dtype=bool))\n",
    "tri_df = corr_df.mask(mask) \n",
    "tri_df"
   ]
  },
  {
   "cell_type": "code",
   "execution_count": 285,
   "id": "965d28e0",
   "metadata": {},
   "outputs": [
    {
     "name": "stdout",
     "output_type": "stream",
     "text": [
      "[]\n"
     ]
    },
    {
     "data": {
      "text/plain": [
       "(800, 11)"
      ]
     },
     "execution_count": 285,
     "metadata": {},
     "output_type": "execute_result"
    }
   ],
   "source": [
    "to_drop = [c for c in tri_df.columns if any(tri_df[c]>0.8)] # threshold 0.8\n",
    "print(to_drop)\n",
    "reduced_df = reduced_df.drop(to_drop,axis=1)\n",
    "reduced_df.shape"
   ]
  },
  {
   "cell_type": "code",
   "execution_count": 286,
   "id": "c7817494",
   "metadata": {},
   "outputs": [
    {
     "data": {
      "text/plain": [
       "array([False,  True])"
      ]
     },
     "execution_count": 286,
     "metadata": {},
     "output_type": "execute_result"
    }
   ],
   "source": [
    "reduced_df['Legendary'].unique()    # target col unique vals"
   ]
  },
  {
   "cell_type": "markdown",
   "id": "d032ffff",
   "metadata": {},
   "source": [
    "# Classification model \n",
    "- to predict if its legendary or not\n",
    "- I apply `XGBoost` & `RandomForest`"
   ]
  },
  {
   "cell_type": "markdown",
   "id": "2364d031",
   "metadata": {},
   "source": [
    "### XGBoostClassifier "
   ]
  },
  {
   "cell_type": "code",
   "execution_count": 349,
   "id": "263ec9e1",
   "metadata": {
    "scrolled": false
   },
   "outputs": [],
   "source": [
    "from xgboost import XGBClassifier\n",
    "from sklearn.model_selection import train_test_split\n",
    "from sklearn.metrics import accuracy_score\n",
    "\n",
    "X = reduced_df.drop(['Name','Legendary'],axis=1)\n",
    "y = reduced_df['Legendary']\n",
    "\n",
    "#  Train-test split\n",
    "X_train, X_test, y_train, y_test = train_test_split(X, y,test_size=0.2, random_state=42)"
   ]
  },
  {
   "cell_type": "code",
   "execution_count": 347,
   "id": "a0ac7237",
   "metadata": {},
   "outputs": [
    {
     "name": "stdout",
     "output_type": "stream",
     "text": [
      "[0.41513735 0.13104307 0.11874901 0.0961309  0.0844271  0.07812034]\n",
      "98.1% test set accuracy\n"
     ]
    }
   ],
   "source": [
    "from sklearn.ensemble import RandomForestClassifier\n",
    "# Build the pipeline\n",
    "pipe = Pipeline([\n",
    "        ('scaler', StandardScaler()),\n",
    "        ('reducer', PCA(n_components=0.9)),  # num of components is 90% of the variance \n",
    "        ('classifier', XGBClassifier())])\n",
    "# Fit the pipeline to the training data\n",
    "pipe.fit(X_train,y_train)\n",
    "\n",
    "# Prints the explained variance ratio\n",
    "print(pipe['reducer'].explained_variance_ratio_)\n",
    "\n",
    "# Score the accuracy on the test set\n",
    "accuracy = pipe.score(X_test,y_test)\n",
    "\n",
    "# Prints the model accuracy\n",
    "print(f'{accuracy:.1%} test set accuracy')"
   ]
  },
  {
   "cell_type": "markdown",
   "id": "3de90f36",
   "metadata": {},
   "source": [
    "![Alt text](53143.jpg)"
   ]
  },
  {
   "cell_type": "markdown",
   "id": "54ecf0d6",
   "metadata": {},
   "source": [
    "### Random forest using pipeline"
   ]
  },
  {
   "cell_type": "markdown",
   "id": "30c26988",
   "metadata": {},
   "source": [
    "- standardization : `standardscaler`\n",
    "- dim reduction : `pca`\n",
    "- apply `RF` classifier "
   ]
  },
  {
   "cell_type": "code",
   "execution_count": 318,
   "id": "9446bab8",
   "metadata": {},
   "outputs": [
    {
     "name": "stdout",
     "output_type": "stream",
     "text": [
      "[0.41513735 0.13104307 0.11874901 0.0961309  0.0844271  0.07812034]\n"
     ]
    }
   ],
   "source": [
    "from sklearn.ensemble import RandomForestClassifier\n",
    "# Build the pipeline\n",
    "pipe = Pipeline([\n",
    "        ('scaler', StandardScaler()),\n",
    "        ('reducer', PCA(n_components=0.9)),  # num of components is 90% of the variance \n",
    "        ('classifier', RandomForestClassifier(random_state=0))])\n",
    "\n",
    "# Fit the pipeline to the training data\n",
    "pipe.fit(X_train,y_train)\n",
    "\n",
    "# Prints the explained variance ratio\n",
    "print(pipe['reducer'].explained_variance_ratio_)"
   ]
  },
  {
   "cell_type": "code",
   "execution_count": 319,
   "id": "bdfdfb65",
   "metadata": {},
   "outputs": [
    {
     "name": "stdout",
     "output_type": "stream",
     "text": [
      "96.2% test set accuracy\n"
     ]
    }
   ],
   "source": [
    "# Score the accuracy on the test set\n",
    "accuracy = pipe.score(X_test,y_test)\n",
    "\n",
    "# Prints the model accuracy\n",
    "print(f'{accuracy:.1%} test set accuracy')"
   ]
  },
  {
   "cell_type": "markdown",
   "id": "6f1ff29d",
   "metadata": {},
   "source": [
    "# The End \n",
    "![Alt text](115039.jpg)"
   ]
  }
 ],
 "metadata": {
  "kernelspec": {
   "display_name": "Python 3 (ipykernel)",
   "language": "python",
   "name": "python3"
  },
  "language_info": {
   "codemirror_mode": {
    "name": "ipython",
    "version": 3
   },
   "file_extension": ".py",
   "mimetype": "text/x-python",
   "name": "python",
   "nbconvert_exporter": "python",
   "pygments_lexer": "ipython3",
   "version": "3.11.5"
  }
 },
 "nbformat": 4,
 "nbformat_minor": 5
}
