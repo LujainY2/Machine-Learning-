{
 "cells": [
  {
   "cell_type": "markdown",
   "id": "71bd3ce7",
   "metadata": {},
   "source": [
    "# Corona json"
   ]
  },
  {
   "cell_type": "code",
   "execution_count": 5,
   "id": "52555180",
   "metadata": {},
   "outputs": [],
   "source": [
    "import json\n",
    "import spacy\n",
    "from spacy.training import Example\n",
    "# Load the training data from a JSON file\n",
    "with open(r\"C:\\Users\\yluja\\OneDrive\\Data Camp\\spacy\\corona.json\", \"r\") as file:\n",
    "    training_data = json.load(file)\n",
    "    \n",
    "# Extract labels from the training data\n",
    "labels = set()\n",
    "for _, annotations in training_data:\n",
    "    for ent in annotations[\"entities\"]:\n",
    "        labels.add(ent[2])"
   ]
  },
  {
   "cell_type": "code",
   "execution_count": 6,
   "id": "612c1bfa",
   "metadata": {},
   "outputs": [
    {
     "data": {
      "text/plain": [
       "['Pathogen', 'MedicalCondition', 'Medicine']"
      ]
     },
     "execution_count": 6,
     "metadata": {},
     "output_type": "execute_result"
    }
   ],
   "source": [
    "list(labels)"
   ]
  },
  {
   "cell_type": "code",
   "execution_count": 9,
   "id": "a7421f56",
   "metadata": {},
   "outputs": [
    {
     "name": "stdout",
     "output_type": "stream",
     "text": [
      "{'ner': 99.35713374614716}\n",
      "{'ner': 189.3465914130211}\n",
      "{'ner': 310.9070354104042}\n",
      "{'ner': 371.8884594067931}\n",
      "{'ner': 558.5823413804173}\n",
      "{'ner': 587.8230280354619}\n",
      "{'ner': 646.6857426986098}\n",
      "{'ner': 687.547281049192}\n",
      "{'ner': 703.1086828205734}\n",
      "{'ner': 712.9378226788249}\n",
      "{'ner': 746.2803179425464}\n",
      "{'ner': 752.2087650422227}\n",
      "{'ner': 752.2909860354148}\n",
      "{'ner': 754.2554715653546}\n",
      "{'ner': 770.204196582906}\n",
      "{'ner': 772.1777887071659}\n",
      "{'ner': 784.0470331022386}\n",
      "{'ner': 799.8646421947906}\n",
      "{'ner': 807.8192863342721}\n",
      "{'ner': 817.6510166736122}\n"
     ]
    }
   ],
   "source": [
    "# Load a blank English model, add NER component, add given labels to the ner pipeline\n",
    "nlp = spacy.blank(\"en\")\n",
    "ner = nlp.add_pipe(\"ner\")\n",
    "for ent in labels:\n",
    "    ner.add_label(ent)\n",
    "\n",
    "# Disable other pipeline components, complete training loop and run training loop\n",
    "other_pipes = [pipe for pipe in nlp.pipe_names if pipe != \"ner\"]\n",
    "nlp.disable_pipes(*other_pipes)\n",
    "losses = {}\n",
    "optimizer = nlp.begin_training()\n",
    "for text, annotation in training_data:\n",
    "    doc = nlp.make_doc(text)\n",
    "    example = Example.from_dict(doc, annotation)\n",
    "    nlp.update([example], sgd=optimizer, losses=losses)\n",
    "    print(losses)"
   ]
  },
  {
   "cell_type": "code",
   "execution_count": 8,
   "id": "213092da",
   "metadata": {},
   "outputs": [],
   "source": [
    "import warnings\n",
    "warnings.filterwarnings(\"ignore\")"
   ]
  }
 ],
 "metadata": {
  "kernelspec": {
   "display_name": "Python 3 (ipykernel)",
   "language": "python",
   "name": "python3"
  },
  "language_info": {
   "codemirror_mode": {
    "name": "ipython",
    "version": 3
   },
   "file_extension": ".py",
   "mimetype": "text/x-python",
   "name": "python",
   "nbconvert_exporter": "python",
   "pygments_lexer": "ipython3",
   "version": "3.11.5"
  }
 },
 "nbformat": 4,
 "nbformat_minor": 5
}
