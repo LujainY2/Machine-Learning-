{
 "cells": [
  {
   "cell_type": "markdown",
   "id": "1c7e868f",
   "metadata": {},
   "source": [
    "# Spark (cluster computing)"
   ]
  },
  {
   "cell_type": "code",
   "execution_count": 109,
   "id": "82a43925",
   "metadata": {},
   "outputs": [],
   "source": [
    "from pyspark.sql import SparkSession\n",
    "\n",
    "spark = SparkSession.builder.master('local').appName('flights analysis').getOrCreate()\n"
   ]
  },
  {
   "cell_type": "markdown",
   "id": "fdd70ce4",
   "metadata": {},
   "source": [
    "# Read thr DF"
   ]
  },
  {
   "cell_type": "code",
   "execution_count": 128,
   "id": "0d8e5421",
   "metadata": {},
   "outputs": [
    {
     "name": "stdout",
     "output_type": "stream",
     "text": [
      "+---+---+---+-------+------+---+----+------+--------+-----+\n",
      "|mon|dom|dow|carrier|flight|org|mile|depart|duration|delay|\n",
      "+---+---+---+-------+------+---+----+------+--------+-----+\n",
      "| 11| 20|  6|     US|    19|JFK|2153|  9.48|     351| NULL|\n",
      "|  0| 22|  2|     UA|  1107|ORD| 316| 16.33|      82|   30|\n",
      "|  2| 20|  4|     UA|   226|SFO| 337|  6.17|      82|   -8|\n",
      "|  9| 13|  1|     AA|   419|ORD|1236| 10.33|     195|   -5|\n",
      "|  4|  2|  5|     AA|   325|ORD| 258|  8.92|      65| NULL|\n",
      "|  5|  2|  1|     UA|   704|SFO| 550|  7.98|     102|    2|\n",
      "|  7|  2|  6|     AA|   380|ORD| 733| 10.83|     135|   54|\n",
      "|  1| 16|  6|     UA|  1477|ORD|1440|   8.0|     232|   -7|\n",
      "|  1| 22|  5|     UA|   620|SJC|1829|  7.98|     250|  -13|\n",
      "| 11|  8|  1|     OO|  5590|SFO| 158|  7.77|      60|   88|\n",
      "|  4| 26|  1|     AA|  1144|SFO|1464| 13.25|     210|  -10|\n",
      "|  4| 25|  0|     AA|   321|ORD| 978| 13.75|     160|   31|\n",
      "|  8| 30|  2|     UA|   646|ORD| 719| 13.28|     151|   16|\n",
      "|  3| 16|  3|     UA|   107|ORD|1745|   9.0|     264|    3|\n",
      "|  0|  3|  4|     AA|  1559|LGA|1097| 17.08|     190|   32|\n",
      "|  5|  9|  1|     UA|   770|SFO| 967|  12.7|     158|   20|\n",
      "|  3| 10|  4|     B6|   937|ORD|1735| 17.58|     265|  155|\n",
      "| 11| 15|  1|     AA|  2303|ORD| 802|  6.75|     160|   23|\n",
      "|  8| 18|  4|     UA|   802|SJC| 948|  6.33|     160|   17|\n",
      "|  2| 14|  5|     B6|    71|JFK| 944|  6.17|     166|    0|\n",
      "+---+---+---+-------+------+---+----+------+--------+-----+\n",
      "only showing top 20 rows\n",
      "\n"
     ]
    }
   ],
   "source": [
    "flights = spark.read.csv('flights.csv',\n",
    "                        sep=',',\n",
    "                        header=True,\n",
    "                        inferSchema=True,\n",
    "                       nullValue='NA')\n",
    "flights.show()"
   ]
  },
  {
   "cell_type": "markdown",
   "id": "7e4cd551",
   "metadata": {},
   "source": [
    "# Remove Col"
   ]
  },
  {
   "cell_type": "code",
   "execution_count": 129,
   "id": "f961e434",
   "metadata": {},
   "outputs": [],
   "source": [
    "flights = flights.drop('flight')"
   ]
  },
  {
   "cell_type": "markdown",
   "id": "fc35dbe4",
   "metadata": {},
   "source": [
    "# check nulls and remove nulls"
   ]
  },
  {
   "cell_type": "code",
   "execution_count": 130,
   "id": "33f0506d",
   "metadata": {},
   "outputs": [
    {
     "data": {
      "text/plain": [
       "2978"
      ]
     },
     "execution_count": 130,
     "metadata": {},
     "output_type": "execute_result"
    }
   ],
   "source": [
    "flights.filter('delay is null').count()"
   ]
  },
  {
   "cell_type": "code",
   "execution_count": 131,
   "id": "7422de20",
   "metadata": {},
   "outputs": [
    {
     "data": {
      "text/plain": [
       "0"
      ]
     },
     "execution_count": 131,
     "metadata": {},
     "output_type": "execute_result"
    }
   ],
   "source": [
    "flights = flights.filter('delay is not null')\n",
    "flights.filter('delay is null').count()"
   ]
  },
  {
   "cell_type": "markdown",
   "id": "4a874f40",
   "metadata": {},
   "source": [
    "# Columns manipulation"
   ]
  },
  {
   "cell_type": "code",
   "execution_count": 132,
   "id": "335157bf",
   "metadata": {},
   "outputs": [
    {
     "name": "stdout",
     "output_type": "stream",
     "text": [
      "+---+---+---+-------+---+------+--------+------+-----+\n",
      "|mon|dom|dow|carrier|org|depart|duration|    km|label|\n",
      "+---+---+---+-------+---+------+--------+------+-----+\n",
      "|  0| 22|  2|     UA|ORD| 16.33|      82| 509.0|    1|\n",
      "|  2| 20|  4|     UA|SFO|  6.17|      82| 542.0|    0|\n",
      "|  9| 13|  1|     AA|ORD| 10.33|     195|1989.0|    0|\n",
      "|  5|  2|  1|     UA|SFO|  7.98|     102| 885.0|    0|\n",
      "|  7|  2|  6|     AA|ORD| 10.83|     135|1180.0|    1|\n",
      "|  1| 16|  6|     UA|ORD|   8.0|     232|2317.0|    0|\n",
      "|  1| 22|  5|     UA|SJC|  7.98|     250|2943.0|    0|\n",
      "| 11|  8|  1|     OO|SFO|  7.77|      60| 254.0|    1|\n",
      "|  4| 26|  1|     AA|SFO| 13.25|     210|2356.0|    0|\n",
      "|  4| 25|  0|     AA|ORD| 13.75|     160|1574.0|    1|\n",
      "|  8| 30|  2|     UA|ORD| 13.28|     151|1157.0|    1|\n",
      "|  3| 16|  3|     UA|ORD|   9.0|     264|2808.0|    0|\n",
      "|  0|  3|  4|     AA|LGA| 17.08|     190|1765.0|    1|\n",
      "|  5|  9|  1|     UA|SFO|  12.7|     158|1556.0|    1|\n",
      "|  3| 10|  4|     B6|ORD| 17.58|     265|2792.0|    1|\n",
      "| 11| 15|  1|     AA|ORD|  6.75|     160|1291.0|    1|\n",
      "|  8| 18|  4|     UA|SJC|  6.33|     160|1526.0|    1|\n",
      "|  2| 14|  5|     B6|JFK|  6.17|     166|1519.0|    0|\n",
      "|  7| 21|  4|     OO|ORD|  19.0|     110| 977.0|    1|\n",
      "| 11|  6|  6|     OO|SFO|  8.75|      82| 509.0|    1|\n",
      "+---+---+---+-------+---+------+--------+------+-----+\n",
      "only showing top 20 rows\n",
      "\n"
     ]
    }
   ],
   "source": [
    "from pyspark.sql.functions import round\n",
    "\n",
    "flights = flights.withColumn('km',round(flights.mile*1.60934,0)).drop('mile')       \n",
    "\n",
    "flights = flights.withColumn('label',(flights.delay>=15).cast('integer')).drop('delay')\n",
    "\n",
    "flights.show()"
   ]
  },
  {
   "cell_type": "markdown",
   "id": "3b2c937f",
   "metadata": {},
   "source": [
    "# Deal with categorical columns\n"
   ]
  },
  {
   "cell_type": "code",
   "execution_count": 133,
   "id": "c7bd0a56",
   "metadata": {},
   "outputs": [
    {
     "data": {
      "text/plain": [
       "[('mon', 'int'),\n",
       " ('dom', 'int'),\n",
       " ('dow', 'int'),\n",
       " ('carrier', 'string'),\n",
       " ('org', 'string'),\n",
       " ('depart', 'double'),\n",
       " ('duration', 'int'),\n",
       " ('km', 'double'),\n",
       " ('label', 'int')]"
      ]
     },
     "execution_count": 133,
     "metadata": {},
     "output_type": "execute_result"
    }
   ],
   "source": [
    "flights.dtypes"
   ]
  },
  {
   "cell_type": "code",
   "execution_count": 134,
   "id": "3bf25457",
   "metadata": {},
   "outputs": [
    {
     "name": "stdout",
     "output_type": "stream",
     "text": [
      "+-------+-----------+\n",
      "|carrier|carrier_idx|\n",
      "+-------+-----------+\n",
      "|     UA|        0.0|\n",
      "|     UA|        0.0|\n",
      "|     AA|        1.0|\n",
      "|     UA|        0.0|\n",
      "|     AA|        1.0|\n",
      "|     UA|        0.0|\n",
      "|     UA|        0.0|\n",
      "|     OO|        2.0|\n",
      "|     AA|        1.0|\n",
      "|     AA|        1.0|\n",
      "|     UA|        0.0|\n",
      "|     UA|        0.0|\n",
      "|     AA|        1.0|\n",
      "|     UA|        0.0|\n",
      "|     B6|        4.0|\n",
      "|     AA|        1.0|\n",
      "|     UA|        0.0|\n",
      "|     B6|        4.0|\n",
      "|     OO|        2.0|\n",
      "|     OO|        2.0|\n",
      "+-------+-----------+\n",
      "only showing top 20 rows\n",
      "\n"
     ]
    }
   ],
   "source": [
    "from pyspark.ml.feature import StringIndexer \n",
    "\n",
    "flights = StringIndexer(inputCol='carrier',outputCol='carrier_idx').fit(flights).transform(flights)#.drop('carrier')\n",
    "flights.select('carrier','carrier_idx').show()"
   ]
  },
  {
   "cell_type": "code",
   "execution_count": 135,
   "id": "98f2afe1",
   "metadata": {},
   "outputs": [
    {
     "name": "stdout",
     "output_type": "stream",
     "text": [
      "+---+-------+\n",
      "|org|org_idx|\n",
      "+---+-------+\n",
      "|ORD|    0.0|\n",
      "|SFO|    1.0|\n",
      "|ORD|    0.0|\n",
      "|SFO|    1.0|\n",
      "|ORD|    0.0|\n",
      "|ORD|    0.0|\n",
      "|SJC|    5.0|\n",
      "|SFO|    1.0|\n",
      "|SFO|    1.0|\n",
      "|ORD|    0.0|\n",
      "|ORD|    0.0|\n",
      "|ORD|    0.0|\n",
      "|LGA|    3.0|\n",
      "|SFO|    1.0|\n",
      "|ORD|    0.0|\n",
      "|ORD|    0.0|\n",
      "|SJC|    5.0|\n",
      "|JFK|    2.0|\n",
      "|ORD|    0.0|\n",
      "|SFO|    1.0|\n",
      "+---+-------+\n",
      "only showing top 20 rows\n",
      "\n"
     ]
    }
   ],
   "source": [
    "flights = StringIndexer(inputCol='org',outputCol='org_idx').fit(flights).transform(flights)\n",
    "flights.select('org','org_idx').show()"
   ]
  },
  {
   "cell_type": "code",
   "execution_count": 136,
   "id": "be066077",
   "metadata": {},
   "outputs": [],
   "source": [
    "flights = flights.drop('carrier','org')"
   ]
  },
  {
   "cell_type": "markdown",
   "id": "5852e126",
   "metadata": {},
   "source": [
    "# Vector assembler"
   ]
  },
  {
   "cell_type": "code",
   "execution_count": 137,
   "id": "282978b7",
   "metadata": {},
   "outputs": [],
   "source": [
    "from pyspark.ml.feature import VectorAssembler\n",
    "\n",
    "assembler = VectorAssembler(\n",
    "            inputCols=['mon','dom','dow','depart','duration','km','carrier_idx','org_idx'],\n",
    "            outputCol = 'features')\n",
    "flights = assembler.transform(flights)"
   ]
  },
  {
   "cell_type": "code",
   "execution_count": 138,
   "id": "0a8b6d84",
   "metadata": {},
   "outputs": [
    {
     "name": "stdout",
     "output_type": "stream",
     "text": [
      "+---+---+---+------+--------+------+-----+-----------+-------+--------------------+\n",
      "|mon|dom|dow|depart|duration|    km|label|carrier_idx|org_idx|            features|\n",
      "+---+---+---+------+--------+------+-----+-----------+-------+--------------------+\n",
      "|  0| 22|  2| 16.33|      82| 509.0|    1|        0.0|    0.0|[0.0,22.0,2.0,16....|\n",
      "|  2| 20|  4|  6.17|      82| 542.0|    0|        0.0|    1.0|[2.0,20.0,4.0,6.1...|\n",
      "|  9| 13|  1| 10.33|     195|1989.0|    0|        1.0|    0.0|[9.0,13.0,1.0,10....|\n",
      "|  5|  2|  1|  7.98|     102| 885.0|    0|        0.0|    1.0|[5.0,2.0,1.0,7.98...|\n",
      "|  7|  2|  6| 10.83|     135|1180.0|    1|        1.0|    0.0|[7.0,2.0,6.0,10.8...|\n",
      "|  1| 16|  6|   8.0|     232|2317.0|    0|        0.0|    0.0|[1.0,16.0,6.0,8.0...|\n",
      "|  1| 22|  5|  7.98|     250|2943.0|    0|        0.0|    5.0|[1.0,22.0,5.0,7.9...|\n",
      "| 11|  8|  1|  7.77|      60| 254.0|    1|        2.0|    1.0|[11.0,8.0,1.0,7.7...|\n",
      "|  4| 26|  1| 13.25|     210|2356.0|    0|        1.0|    1.0|[4.0,26.0,1.0,13....|\n",
      "|  4| 25|  0| 13.75|     160|1574.0|    1|        1.0|    0.0|[4.0,25.0,0.0,13....|\n",
      "|  8| 30|  2| 13.28|     151|1157.0|    1|        0.0|    0.0|[8.0,30.0,2.0,13....|\n",
      "|  3| 16|  3|   9.0|     264|2808.0|    0|        0.0|    0.0|[3.0,16.0,3.0,9.0...|\n",
      "|  0|  3|  4| 17.08|     190|1765.0|    1|        1.0|    3.0|[0.0,3.0,4.0,17.0...|\n",
      "|  5|  9|  1|  12.7|     158|1556.0|    1|        0.0|    1.0|[5.0,9.0,1.0,12.7...|\n",
      "|  3| 10|  4| 17.58|     265|2792.0|    1|        4.0|    0.0|[3.0,10.0,4.0,17....|\n",
      "| 11| 15|  1|  6.75|     160|1291.0|    1|        1.0|    0.0|[11.0,15.0,1.0,6....|\n",
      "|  8| 18|  4|  6.33|     160|1526.0|    1|        0.0|    5.0|[8.0,18.0,4.0,6.3...|\n",
      "|  2| 14|  5|  6.17|     166|1519.0|    0|        4.0|    2.0|[2.0,14.0,5.0,6.1...|\n",
      "|  7| 21|  4|  19.0|     110| 977.0|    1|        2.0|    0.0|[7.0,21.0,4.0,19....|\n",
      "| 11|  6|  6|  8.75|      82| 509.0|    1|        2.0|    1.0|[11.0,6.0,6.0,8.7...|\n",
      "+---+---+---+------+--------+------+-----+-----------+-------+--------------------+\n",
      "only showing top 20 rows\n",
      "\n"
     ]
    }
   ],
   "source": [
    "flights.show()"
   ]
  },
  {
   "cell_type": "markdown",
   "id": "e56d33fa",
   "metadata": {},
   "source": [
    "# splitting "
   ]
  },
  {
   "cell_type": "code",
   "execution_count": 143,
   "id": "b0427e64",
   "metadata": {},
   "outputs": [],
   "source": [
    "flights_train ,flights_test= flights.randomSplit([0.8,0.2],seed=43)"
   ]
  },
  {
   "cell_type": "markdown",
   "id": "19333b13",
   "metadata": {},
   "source": [
    "# model"
   ]
  },
  {
   "cell_type": "code",
   "execution_count": 144,
   "id": "031abf5b",
   "metadata": {},
   "outputs": [],
   "source": [
    "from pyspark.ml.classification import DecisionTreeClassifier\n",
    "\n",
    "tree = DecisionTreeClassifier(labelCol='label', featuresCol='features')\n",
    "\n",
    "tree_model = tree.fit(flights_train)\n",
    "\n",
    "pred = tree_model.transform(flights_test)"
   ]
  },
  {
   "cell_type": "code",
   "execution_count": 145,
   "id": "1a634e5a",
   "metadata": {},
   "outputs": [
    {
     "name": "stdout",
     "output_type": "stream",
     "text": [
      "+---+---+---+------+--------+------+-----+-----------+-------+--------------------+---------------+--------------------+----------+\n",
      "|mon|dom|dow|depart|duration|    km|label|carrier_idx|org_idx|            features|  rawPrediction|         probability|prediction|\n",
      "+---+---+---+------+--------+------+-----+-----------+-------+--------------------+---------------+--------------------+----------+\n",
      "|  0|  1|  2|   6.0|      82| 600.0|    1|        2.0|    4.0|[0.0,1.0,2.0,6.0,...|  [927.0,132.0]|[0.87535410764872...|       0.0|\n",
      "|  0|  1|  2|  6.25|     120| 999.0|    1|        6.0|    5.0|[0.0,1.0,2.0,6.25...|  [927.0,132.0]|[0.87535410764872...|       0.0|\n",
      "|  0|  1|  2|   6.5|     240|2235.0|    1|        1.0|    3.0|[0.0,1.0,2.0,6.5,...|[1482.0,1280.0]|[0.53656770456191...|       0.0|\n",
      "|  0|  1|  2|  7.25|     122|1091.0|    1|        6.0|    0.0|[0.0,1.0,2.0,7.25...|[1482.0,1280.0]|[0.53656770456191...|       0.0|\n",
      "|  0|  1|  2|  8.08|     120|1180.0|    0|        1.0|    0.0|[0.0,1.0,2.0,8.08...|[1482.0,1280.0]|[0.53656770456191...|       0.0|\n",
      "+---+---+---+------+--------+------+-----+-----------+-------+--------------------+---------------+--------------------+----------+\n",
      "only showing top 5 rows\n",
      "\n"
     ]
    }
   ],
   "source": [
    "pred.show(5)"
   ]
  },
  {
   "cell_type": "code",
   "execution_count": 146,
   "id": "879d4634",
   "metadata": {},
   "outputs": [
    {
     "name": "stdout",
     "output_type": "stream",
     "text": [
      "+-----+----------+--------------------+\n",
      "|label|prediction|         probability|\n",
      "+-----+----------+--------------------+\n",
      "|    1|       0.0|[0.87535410764872...|\n",
      "|    1|       0.0|[0.87535410764872...|\n",
      "|    1|       0.0|[0.53656770456191...|\n",
      "|    1|       0.0|[0.53656770456191...|\n",
      "|    0|       0.0|[0.53656770456191...|\n",
      "|    1|       0.0|[0.53656770456191...|\n",
      "|    0|       0.0|[0.53656770456191...|\n",
      "|    1|       1.0|[0.35359258305433...|\n",
      "|    0|       1.0|[0.35359258305433...|\n",
      "|    1|       1.0|[0.35359258305433...|\n",
      "|    1|       1.0|[0.35359258305433...|\n",
      "|    1|       1.0|[0.35359258305433...|\n",
      "|    1|       1.0|[0.35359258305433...|\n",
      "|    0|       1.0|[0.35359258305433...|\n",
      "|    1|       1.0|[0.34909090909090...|\n",
      "|    1|       1.0|[0.35359258305433...|\n",
      "|    1|       1.0|[0.34909090909090...|\n",
      "|    1|       1.0|[0.35359258305433...|\n",
      "|    1|       1.0|[0.35359258305433...|\n",
      "|    1|       1.0|[0.34909090909090...|\n",
      "+-----+----------+--------------------+\n",
      "only showing top 20 rows\n",
      "\n"
     ]
    }
   ],
   "source": [
    "pred.select('label','prediction','probability').show()"
   ]
  },
  {
   "cell_type": "code",
   "execution_count": 147,
   "id": "1924ed3a",
   "metadata": {},
   "outputs": [
    {
     "name": "stdout",
     "output_type": "stream",
     "text": [
      "+-----+----------+-----+\n",
      "|label|prediction|count|\n",
      "+-----+----------+-----+\n",
      "|    1|       0.0| 1299|\n",
      "|    0|       0.0| 2513|\n",
      "|    1|       1.0| 3376|\n",
      "|    0|       1.0| 2097|\n",
      "+-----+----------+-----+\n",
      "\n"
     ]
    },
    {
     "data": {
      "text/plain": [
       "0.634248788368336"
      ]
     },
     "execution_count": 147,
     "metadata": {},
     "output_type": "execute_result"
    }
   ],
   "source": [
    "# create confusion matrix \n",
    "pred.groupBy('label','prediction').count().show()\n",
    "\n",
    "# Calculate the individual elements of the confusion matrix\n",
    "TN = pred.filter('label = 0 AND prediction = 0').count()\n",
    "TP = pred.filter('label = 1 AND prediction = 1').count()\n",
    "FN = pred.filter('label = 1 AND prediction = 0').count()\n",
    "FP = pred.filter('label = 0 AND prediction = 1').count()\n",
    "\n",
    "accuracy = (TN+TP)/(TN+TP+FN+FP)\n",
    "accuracy"
   ]
  },
  {
   "cell_type": "code",
   "execution_count": 150,
   "id": "ff2481ff",
   "metadata": {},
   "outputs": [
    {
     "name": "stdout",
     "output_type": "stream",
     "text": [
      "0.6063543349488422\n",
      "+-----+----------+-----+\n",
      "|label|prediction|count|\n",
      "+-----+----------+-----+\n",
      "|    1|       0.0| 1621|\n",
      "|    0|       0.0| 2576|\n",
      "|    1|       1.0| 3054|\n",
      "|    0|       1.0| 2034|\n",
      "+-----+----------+-----+\n",
      "\n"
     ]
    }
   ],
   "source": [
    "from pyspark.ml.classification import LogisticRegression\n",
    "\n",
    "logistic = LogisticRegression().fit(flights_train)\n",
    "\n",
    "pred = logistic.transform(flights_test)\n",
    "\n",
    "# Calculate the individual elements of the confusion matrix\n",
    "TN = pred.filter('label = 0 AND prediction = 0').count()\n",
    "TP = pred.filter('label = 1 AND prediction = 1').count()\n",
    "FN = pred.filter('label = 1 AND prediction = 0').count()\n",
    "FP = pred.filter('label = 0 AND prediction = 1').count()\n",
    "\n",
    "accuracy = (TN+TP)/(TN+TP+FN+FP)\n",
    "print(accuracy)\n",
    "\n",
    "pred.groupBy('label','prediction').count().show()"
   ]
  },
  {
   "cell_type": "code",
   "execution_count": 151,
   "id": "af117d4f",
   "metadata": {},
   "outputs": [
    {
     "name": "stdout",
     "output_type": "stream",
     "text": [
      "precision = 0.60\n",
      "recall    = 0.65\n"
     ]
    }
   ],
   "source": [
    "from pyspark.ml.evaluation import MulticlassClassificationEvaluator,BinaryClassificationEvaluator\n",
    "\n",
    "# Calculate precision and recall\n",
    "\n",
    "precision = TP/(TP+FP)\n",
    "recall = TP /(TP+FN)\n",
    "\n",
    "print('precision = {:.2f}\\nrecall    = {:.2f}'.format(precision, recall))\n",
    "\n",
    "# Find weighted precision\n",
    "\n",
    "\n",
    "multi_evaluator = MulticlassClassificationEvaluator()\n",
    "weighted_precision = multi_evaluator.evaluate(pred,{multi_evaluator.metricName:\"weightedPrecision\"})\n",
    "\n",
    "binary_evaluator = BinaryClassificationEvaluator()\n",
    "auc = binary_evaluator.evaluate(pred,{binary_evaluator.metricName:'areaUnderROC'})"
   ]
  }
 ],
 "metadata": {
  "kernelspec": {
   "display_name": "Python 3 (ipykernel)",
   "language": "python",
   "name": "python3"
  },
  "language_info": {
   "codemirror_mode": {
    "name": "ipython",
    "version": 3
   },
   "file_extension": ".py",
   "mimetype": "text/x-python",
   "name": "python",
   "nbconvert_exporter": "python",
   "pygments_lexer": "ipython3",
   "version": "3.11.5"
  }
 },
 "nbformat": 4,
 "nbformat_minor": 5
}
